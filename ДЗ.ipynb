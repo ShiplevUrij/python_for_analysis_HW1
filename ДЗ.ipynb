{
 "cells": [
  {
   "cell_type": "code",
   "execution_count": null,
   "id": "69f11e81",
   "metadata": {},
   "outputs": [],
   "source": [
    "from typing import List, Dict\n",
    "import pandas as pd\n",
    "import datetime"
   ]
  },
  {
   "attachments": {},
   "cell_type": "markdown",
   "id": "ecfc330d",
   "metadata": {},
   "source": [
    "**Условие 2**\n",
    "На складе лежат разные фрукты в разном количестве. Нужно написать функцию, которая на вход принимает любое количество названий фруктов и их количество, а возвращает общее количество фруктов на складе"
   ]
  },
  {
   "cell_type": "code",
   "execution_count": null,
   "id": "73055966",
   "metadata": {
    "scrolled": true
   },
   "outputs": [
    {
     "data": {
      "text/plain": [
       "297"
      ]
     },
     "execution_count": 3,
     "metadata": {},
     "output_type": "execute_result"
    }
   ],
   "source": [
    "def sum_fruits(fruits: Dict):\n",
    "    return sum(fruits.values())\n",
    "\n",
    "storage1 = {'apple': 80, 'banana': 67, 'pineapple': 35, 'papaya': 95, 'orange':20}\n",
    "sum_fruits(storage1)   "
   ]
  },
  {
   "attachments": {},
   "cell_type": "markdown",
   "id": "cf820abc",
   "metadata": {},
   "source": [
    "**Условие 3**\n",
    "Дан список с затратами на рекламу. Но в данных есть ошибки, некоторые затраты имеют отрицательную величину. Удалите такие значения из списка и посчитайте суммарные затраты"
   ]
  },
  {
   "cell_type": "code",
   "execution_count": null,
   "id": "d8be1be5",
   "metadata": {},
   "outputs": [],
   "source": [
    "reklama = [100, 125, -90, 345, 655, -1, 0, 200]"
   ]
  },
  {
   "cell_type": "code",
   "execution_count": null,
   "id": "11deb085",
   "metadata": {},
   "outputs": [
    {
     "name": "stdout",
     "output_type": "stream",
     "text": [
      "1425\n"
     ]
    }
   ],
   "source": [
    "print(sum(a for a in reklama if a >= 0))"
   ]
  },
  {
   "attachments": {},
   "cell_type": "markdown",
   "id": "f3157881",
   "metadata": {},
   "source": [
    "**Условие 4** \n",
    "Даны два списка.\n",
    "\n",
    "Дата покупки"
   ]
  },
  {
   "cell_type": "code",
   "execution_count": null,
   "id": "5446b759",
   "metadata": {},
   "outputs": [],
   "source": [
    "data = ['2021-09-14', '2021-12-15', '2021-09-08', '2021-12-05', '2021-10-09', '2021-09-30', '2021-12-22', '2021-11-29', '2021-12-24', '2021-11-26', '2021-10-27', '2021-12-18', '2021-11-09', '2021-11-23', '2021-09-27', '2021-10-02', '2021-12-27', '2021-09-20', '2021-12-13', '2021-11-01', '2021-11-09', '2021-12-06', '2021-12-08', '2021-10-09', '2021-10-31', '2021-09-30', '2021-11-09', '2021-12-13', '2021-10-26', '2021-12-09']"
   ]
  },
  {
   "cell_type": "markdown",
   "id": "4d449d62",
   "metadata": {},
   "source": [
    "Суммы покупок по датам"
   ]
  },
  {
   "cell_type": "code",
   "execution_count": null,
   "id": "78446e63",
   "metadata": {},
   "outputs": [],
   "source": [
    "purchase = [1270, 8413, 9028, 3703, 5739, 4095, 295, 4944, 5723, 3701, 4471, 651, 7037, 4274, 6275, 4988, 6930, 2971, 6592, 2004, 2822, 519, 3406, 2732, 5015, 2008, 316, 6333, 5700, 2887]"
   ]
  },
  {
   "cell_type": "markdown",
   "id": "396b91d8",
   "metadata": {},
   "source": [
    "4.1 Найдите, какая выручка у компании в ноябре\n",
    "Используйте list comprehensions"
   ]
  },
  {
   "cell_type": "code",
   "execution_count": null,
   "id": "bb84e0e8",
   "metadata": {},
   "outputs": [
    {
     "name": "stdout",
     "output_type": "stream",
     "text": [
      "25098\n"
     ]
    }
   ],
   "source": [
    "print(sum([p for d, p in zip(data, purchase) if d[5:7] == \"11\"]))"
   ]
  },
  {
   "cell_type": "markdown",
   "id": "c2783105",
   "metadata": {},
   "source": [
    "4.2 Найдите выручку компании в зависимости от месяца\n",
    "Для этого напишите функцию, которая на вход принимает список с датами и список с выручкой, а на выходе словарь, где ключи - это месяцы, а значения - это выручка. Используйте аннотирование типов."
   ]
  },
  {
   "cell_type": "code",
   "execution_count": null,
   "id": "8fe561aa",
   "metadata": {},
   "outputs": [
    {
     "ename": "IndentationError",
     "evalue": "unexpected indent (4109545615.py, line 12)",
     "output_type": "error",
     "traceback": [
      "\u001b[1;36m  File \u001b[1;32m\"C:\\Users\\М\\AppData\\Local\\Temp\\ipykernel_9392\\4109545615.py\"\u001b[1;36m, line \u001b[1;32m12\u001b[0m\n\u001b[1;33m    df = df.groupby('Month').sum()\u001b[0m\n\u001b[1;37m    ^\u001b[0m\n\u001b[1;31mIndentationError\u001b[0m\u001b[1;31m:\u001b[0m unexpected indent\n"
     ]
    }
   ],
   "source": [
    "def sum_month (data: List, purchase: List) -> Dict:\n",
    "    df = pd.DataFrame()\n",
    "    df['Date'] = [datetime.datetime.strptime(i, '%Y-%m-%d') for i in data]\n",
    "    df['Sum'] = purchase\n",
    "    df = df.groupby (df.Date.dt.month )['Sum']. sum ()\n",
    "    df['Month'] = pd.DatetimeIndex(df['Date']).month\n",
    "    df = df.groupby('Month').sum()\n",
    "    return df.to_dict('dict')\n",
    "    df.to_dict('index')\n",
    "\n",
    "sum_month(data, purchase)"
   ]
  },
  {
   "cell_type": "code",
   "execution_count": null,
   "id": "bc7b216a",
   "metadata": {},
   "outputs": [],
   "source": []
  },
  {
   "cell_type": "code",
   "execution_count": null,
   "id": "9d0f3bab",
   "metadata": {},
   "outputs": [],
   "source": []
  }
 ],
 "metadata": {
  "kernelspec": {
   "display_name": "Python 3 (ipykernel)",
   "language": "python",
   "name": "python3"
  },
  "language_info": {
   "codemirror_mode": {
    "name": "ipython",
    "version": 3
   },
   "file_extension": ".py",
   "mimetype": "text/x-python",
   "name": "python",
   "nbconvert_exporter": "python",
   "pygments_lexer": "ipython3",
   "version": "3.9.13"
  }
 },
 "nbformat": 4,
 "nbformat_minor": 5
}
